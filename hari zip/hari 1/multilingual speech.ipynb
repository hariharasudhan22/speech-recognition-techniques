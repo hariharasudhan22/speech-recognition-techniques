{
 "cells": [
  {
   "cell_type": "code",
   "execution_count": 1,
   "id": "54daf5a4-0425-403d-bc26-310305359c09",
   "metadata": {},
   "outputs": [
    {
     "name": "stdout",
     "output_type": "stream",
     "text": [
      "Requirement already satisfied: SpeechRecognition in c:\\users\\admin\\appdata\\local\\programs\\python\\python310\\lib\\site-packages (3.14.2)\n",
      "Requirement already satisfied: pyaudio in c:\\users\\admin\\appdata\\local\\programs\\python\\python310\\lib\\site-packages (0.2.14)\n",
      "Requirement already satisfied: typing-extensions in c:\\users\\admin\\appdata\\local\\programs\\python\\python310\\lib\\site-packages (from SpeechRecognition) (4.13.2)\n",
      "Note: you may need to restart the kernel to use updated packages.\n"
     ]
    }
   ],
   "source": [
    "pip install SpeechRecognition pyaudio\n"
   ]
  },
  {
   "cell_type": "code",
   "execution_count": 3,
   "id": "d3595f18-1ad2-492c-875f-412b8c9c7273",
   "metadata": {},
   "outputs": [
    {
     "name": "stdin",
     "output_type": "stream",
     "text": [
      "Enter language code (e.g., en-US, hi-IN, es-ES):  ta-IN\n"
     ]
    },
    {
     "name": "stdout",
     "output_type": "stream",
     "text": [
      "🎙️ Please speak now (Language: ta-IN)...\n",
      "📝 Recognized Text: வணக்கம்\n"
     ]
    }
   ],
   "source": [
    "import speech_recognition as sr\n",
    "\n",
    "def recognize_speech(language_code='en-US'):\n",
    "    recognizer = sr.Recognizer()\n",
    "    with sr.Microphone() as source:\n",
    "        print(f\"🎙️ Please speak now (Language: {language_code})...\")\n",
    "        recognizer.adjust_for_ambient_noise(source)\n",
    "        audio = recognizer.listen(source)\n",
    "    try:\n",
    "        text = recognizer.recognize_google(audio, language=language_code)\n",
    "        print(f\"📝 Recognized Text: {text}\")\n",
    "        return text\n",
    "    except sr.UnknownValueError:\n",
    "        print(\"❗ Sorry, could not understand the audio.\")\n",
    "    except sr.RequestError as e:\n",
    "        print(f\"❗ Could not request results; {e}\")\n",
    "    return None\n",
    "\n",
    "if __name__ == \"__main__\":\n",
    "    # Example languages:\n",
    "    # English (US): 'en-US'\n",
    "    # Hindi: 'hi-IN'\n",
    "    # Spanish: 'es-ES'\n",
    "    # French: 'fr-FR'\n",
    "    # Tamil: 'ta-IN'\n",
    "\n",
    "    lang = input(\"Enter language code (e.g., en-US, hi-IN, es-ES): \").strip()\n",
    "    recognize_speech(lang)\n"
   ]
  },
  {
   "cell_type": "code",
   "execution_count": null,
   "id": "2371b3b9-1eb8-4bc5-bdf1-d1550e15bc99",
   "metadata": {},
   "outputs": [],
   "source": []
  }
 ],
 "metadata": {
  "kernelspec": {
   "display_name": "Python 3 (ipykernel)",
   "language": "python",
   "name": "python3"
  },
  "language_info": {
   "codemirror_mode": {
    "name": "ipython",
    "version": 3
   },
   "file_extension": ".py",
   "mimetype": "text/x-python",
   "name": "python",
   "nbconvert_exporter": "python",
   "pygments_lexer": "ipython3",
   "version": "3.10.10"
  }
 },
 "nbformat": 4,
 "nbformat_minor": 5
}
